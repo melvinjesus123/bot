{
 "cells": [
  {
   "cell_type": "markdown",
   "id": "e48116ef",
   "metadata": {},
   "source": [
    "# Exploración de datos (OHLCV)\n",
    "\n",
    "Este notebook carga los datos descargados por la ingesta (CSV en `data/`) y muestra un gráfico simple de cierre."
   ]
  },
  {
   "cell_type": "code",
   "execution_count": null,
   "id": "6cdf8aa0",
   "metadata": {},
   "outputs": [],
   "source": [
    "import os\n",
    "from pathlib import Path\n",
    "import pandas as pd\n",
    "import matplotlib.pyplot as plt\n",
    "\n",
    "SYMBOL = os.getenv('SYMBOL', 'BTC/USDT').replace('/', '')\n",
    "TIMEFRAME = os.getenv('TIMEFRAME', '1h')\n",
    "csv_path = Path('data') / f'{SYMBOL}_{TIMEFRAME}.csv'\n",
    "csv_path"
   ]
  },
  {
   "cell_type": "code",
   "execution_count": null,
   "id": "3096cd3a",
   "metadata": {},
   "outputs": [],
   "source": [
    "df = pd.read_csv(csv_path)\n",
    "df['datetime'] = pd.to_datetime(df['timestamp'], unit='ms', utc=True) if 'timestamp' in df.columns else pd.to_datetime(df['datetime'], utc=True)\n",
    "df.set_index('datetime', inplace=True)\n",
    "df['close'].plot(figsize=(12,4), title='Close')\n",
    "plt.show()"
   ]
  }
 ],
 "metadata": {
  "language_info": {
   "name": "python"
  }
 },
 "nbformat": 4,
 "nbformat_minor": 5
}
